{
 "cells": [
  {
   "cell_type": "markdown",
   "source": [
    "# Classifying Fashion-MNIST\n",
    "\n",
    "Now it's your turn to build and train a neural network. You'll be using the [Fashion-MNIST dataset](https://github.com/zalandoresearch/fashion-mnist), a drop-in replacement for the MNIST dataset. MNIST is actually quite trivial with neural networks where you can easily achieve better than 97% accuracy. Fashion-MNIST is a set of 28x28 greyscale images of clothes. It's more complex than MNIST, so it's a better representation of the actual performance of your network, and a better representation of datasets you'll use in the real world.\n",
    "\n",
    "<img src='assets/fashion-mnist-sprite.png' width=500px>\n",
    "\n",
    "In this notebook, you'll build your own neural network. For the most part, you could just copy and paste the code from Part 3, but you wouldn't be learning. It's important for you to write the code yourself and get it to work. Feel free to consult the previous notebooks though as you work through this.\n",
    "\n",
    "First off, let's load the dataset through torchvision."
   ],
   "metadata": {}
  },
  {
   "cell_type": "code",
   "execution_count": 1,
   "source": [
    "import torch\n",
    "from torchvision import datasets, transforms\n",
    "import helper\n",
    "\n",
    "# Define a transform to normalize the data\n",
    "transform = transforms.Compose([transforms.ToTensor(),\n",
    "                                transforms.Normalize((0.5,), (0.5,))])\n",
    "# Download and load the training data\n",
    "trainset = datasets.FashionMNIST('~/.pytorch/F_MNIST_data/', download=True, train=True, transform=transform)\n",
    "trainloader = torch.utils.data.DataLoader(trainset, batch_size=64, shuffle=True)\n",
    "\n",
    "# Download and load the test data\n",
    "testset = datasets.FashionMNIST('~/.pytorch/F_MNIST_data/', download=True, train=False, transform=transform)\n",
    "testloader = torch.utils.data.DataLoader(testset, batch_size=64, shuffle=True)"
   ],
   "outputs": [
    {
     "output_type": "stream",
     "name": "stdout",
     "text": [
      "Downloading http://fashion-mnist.s3-website.eu-central-1.amazonaws.com/train-images-idx3-ubyte.gz\n",
      "Downloading http://fashion-mnist.s3-website.eu-central-1.amazonaws.com/train-images-idx3-ubyte.gz to /Users/npalmar/.pytorch/F_MNIST_data/FashionMNIST/raw/train-images-idx3-ubyte.gz\n"
     ]
    },
    {
     "output_type": "stream",
     "name": "stderr",
     "text": [
      "100.0%\n"
     ]
    },
    {
     "output_type": "stream",
     "name": "stdout",
     "text": [
      "Extracting /Users/npalmar/.pytorch/F_MNIST_data/FashionMNIST/raw/train-images-idx3-ubyte.gz to /Users/npalmar/.pytorch/F_MNIST_data/FashionMNIST/raw\n",
      "\n",
      "Downloading http://fashion-mnist.s3-website.eu-central-1.amazonaws.com/train-labels-idx1-ubyte.gz\n",
      "Downloading http://fashion-mnist.s3-website.eu-central-1.amazonaws.com/train-labels-idx1-ubyte.gz to /Users/npalmar/.pytorch/F_MNIST_data/FashionMNIST/raw/train-labels-idx1-ubyte.gz\n"
     ]
    },
    {
     "output_type": "stream",
     "name": "stderr",
     "text": [
      "100.6%\n"
     ]
    },
    {
     "output_type": "stream",
     "name": "stdout",
     "text": [
      "Extracting /Users/npalmar/.pytorch/F_MNIST_data/FashionMNIST/raw/train-labels-idx1-ubyte.gz to /Users/npalmar/.pytorch/F_MNIST_data/FashionMNIST/raw\n",
      "\n",
      "Downloading http://fashion-mnist.s3-website.eu-central-1.amazonaws.com/t10k-images-idx3-ubyte.gz\n",
      "Downloading http://fashion-mnist.s3-website.eu-central-1.amazonaws.com/t10k-images-idx3-ubyte.gz to /Users/npalmar/.pytorch/F_MNIST_data/FashionMNIST/raw/t10k-images-idx3-ubyte.gz\n"
     ]
    },
    {
     "output_type": "stream",
     "name": "stderr",
     "text": [
      "100.0%\n"
     ]
    },
    {
     "output_type": "stream",
     "name": "stdout",
     "text": [
      "Extracting /Users/npalmar/.pytorch/F_MNIST_data/FashionMNIST/raw/t10k-images-idx3-ubyte.gz to /Users/npalmar/.pytorch/F_MNIST_data/FashionMNIST/raw\n",
      "\n",
      "Downloading http://fashion-mnist.s3-website.eu-central-1.amazonaws.com/t10k-labels-idx1-ubyte.gz\n",
      "Downloading http://fashion-mnist.s3-website.eu-central-1.amazonaws.com/t10k-labels-idx1-ubyte.gz to /Users/npalmar/.pytorch/F_MNIST_data/FashionMNIST/raw/t10k-labels-idx1-ubyte.gz\n"
     ]
    },
    {
     "output_type": "stream",
     "name": "stderr",
     "text": [
      "119.3%"
     ]
    },
    {
     "output_type": "stream",
     "name": "stdout",
     "text": [
      "Extracting /Users/npalmar/.pytorch/F_MNIST_data/FashionMNIST/raw/t10k-labels-idx1-ubyte.gz to /Users/npalmar/.pytorch/F_MNIST_data/FashionMNIST/raw\n",
      "\n"
     ]
    },
    {
     "output_type": "stream",
     "name": "stderr",
     "text": [
      "\n",
      "/opt/miniconda3/envs/testenv/lib/python3.8/site-packages/torchvision/datasets/mnist.py:498: UserWarning: The given NumPy array is not writeable, and PyTorch does not support non-writeable tensors. This means you can write to the underlying (supposedly non-writeable) NumPy array using the tensor. You may want to copy the array to protect its data or make it writeable before converting it to a tensor. This type of warning will be suppressed for the rest of this program. (Triggered internally at  /Users/distiller/project/conda/conda-bld/pytorch_1623459044803/work/torch/csrc/utils/tensor_numpy.cpp:180.)\n",
      "  return torch.from_numpy(parsed.astype(m[2], copy=False)).view(*s)\n"
     ]
    }
   ],
   "metadata": {}
  },
  {
   "cell_type": "markdown",
   "source": [
    "Here we can see one of the images."
   ],
   "metadata": {}
  },
  {
   "cell_type": "code",
   "execution_count": 8,
   "source": [
    "%matplotlib inline\n",
    "image, label = next(iter(trainloader))\n",
    "helper.imshow(image[0,:])"
   ],
   "outputs": [
    {
     "output_type": "execute_result",
     "data": {
      "text/plain": [
       "<AxesSubplot:>"
      ]
     },
     "metadata": {},
     "execution_count": 8
    },
    {
     "output_type": "display_data",
     "data": {
      "text/plain": [
       "<Figure size 432x288 with 1 Axes>"
      ],
      "image/svg+xml": "<?xml version=\"1.0\" encoding=\"utf-8\" standalone=\"no\"?>\n<!DOCTYPE svg PUBLIC \"-//W3C//DTD SVG 1.1//EN\"\n  \"http://www.w3.org/Graphics/SVG/1.1/DTD/svg11.dtd\">\n<svg height=\"231.84pt\" version=\"1.1\" viewBox=\"0 0 231.84 231.84\" width=\"231.84pt\" xmlns=\"http://www.w3.org/2000/svg\" xmlns:xlink=\"http://www.w3.org/1999/xlink\">\n <metadata>\n  <rdf:RDF xmlns:cc=\"http://creativecommons.org/ns#\" xmlns:dc=\"http://purl.org/dc/elements/1.1/\" xmlns:rdf=\"http://www.w3.org/1999/02/22-rdf-syntax-ns#\">\n   <cc:Work>\n    <dc:type rdf:resource=\"http://purl.org/dc/dcmitype/StillImage\"/>\n    <dc:date>2021-09-09T15:01:42.373308</dc:date>\n    <dc:format>image/svg+xml</dc:format>\n    <dc:creator>\n     <cc:Agent>\n      <dc:title>Matplotlib v3.4.2, https://matplotlib.org/</dc:title>\n     </cc:Agent>\n    </dc:creator>\n   </cc:Work>\n  </rdf:RDF>\n </metadata>\n <defs>\n  <style type=\"text/css\">*{stroke-linecap:butt;stroke-linejoin:round;}</style>\n </defs>\n <g id=\"figure_1\">\n  <g id=\"patch_1\">\n   <path d=\"M 0 231.84 \nL 231.84 231.84 \nL 231.84 0 \nL 0 0 \nz\n\" style=\"fill:none;\"/>\n  </g>\n  <g id=\"axes_1\">\n   <g id=\"patch_2\">\n    <path d=\"M 7.2 224.64 \nL 224.64 224.64 \nL 224.64 7.2 \nL 7.2 7.2 \nz\n\" style=\"fill:#ffffff;\"/>\n   </g>\n   <g clip-path=\"url(#padd838b646)\">\n    <image height=\"218\" id=\"image5e0239e419\" transform=\"scale(1 -1)translate(0 -218)\" width=\"218\" x=\"7.2\" xlink:href=\"data:image/png;base64,\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\" y=\"-6.64\"/>\n   </g>\n   <g id=\"matplotlib.axis_1\">\n    <g id=\"xtick_1\">\n     <g id=\"line2d_1\"/>\n    </g>\n    <g id=\"xtick_2\">\n     <g id=\"line2d_2\"/>\n    </g>\n    <g id=\"xtick_3\">\n     <g id=\"line2d_3\"/>\n    </g>\n    <g id=\"xtick_4\">\n     <g id=\"line2d_4\"/>\n    </g>\n    <g id=\"xtick_5\">\n     <g id=\"line2d_5\"/>\n    </g>\n    <g id=\"xtick_6\">\n     <g id=\"line2d_6\"/>\n    </g>\n   </g>\n   <g id=\"matplotlib.axis_2\">\n    <g id=\"ytick_1\">\n     <g id=\"line2d_7\"/>\n    </g>\n    <g id=\"ytick_2\">\n     <g id=\"line2d_8\"/>\n    </g>\n    <g id=\"ytick_3\">\n     <g id=\"line2d_9\"/>\n    </g>\n    <g id=\"ytick_4\">\n     <g id=\"line2d_10\"/>\n    </g>\n    <g id=\"ytick_5\">\n     <g id=\"line2d_11\"/>\n    </g>\n    <g id=\"ytick_6\">\n     <g id=\"line2d_12\"/>\n    </g>\n   </g>\n  </g>\n </g>\n <defs>\n  <clipPath id=\"padd838b646\">\n   <rect height=\"217.44\" width=\"217.44\" x=\"7.2\" y=\"7.2\"/>\n  </clipPath>\n </defs>\n</svg>\n",
      "image/png": "[encoded data removed]"
     },
     "metadata": {
      "needs_background": "light"
     }
    }
   ],
   "metadata": {}
  },
  {
   "cell_type": "markdown",
   "source": [
    "## Building the network\n",
    "\n",
    "Here you should define your network. As with MNIST, each image is 28x28 which is a total of 784 pixels, and there are 10 classes. You should include at least one hidden layer. We suggest you use ReLU activations for the layers and to return the logits or log-softmax from the forward pass. It's up to you how many layers you add and the size of those layers."
   ],
   "metadata": {}
  },
  {
   "cell_type": "code",
   "execution_count": 4,
   "source": [
    "from torch import nn\n",
    "\n",
    "model = nn.Sequential(\n",
    "    nn.Linear(28*28, 256),\n",
    "    nn.ReLU(),\n",
    "    nn.Linear(256, 128),\n",
    "    nn.ReLU(),\n",
    "    nn.Linear(128, 64),\n",
    "    nn.ReLU(),\n",
    "    nn.Linear(64, 10),\n",
    "    nn.LogSoftmax(dim=1)\n",
    ")\n",
    "\n",
    "model"
   ],
   "outputs": [
    {
     "output_type": "execute_result",
     "data": {
      "text/plain": [
       "Sequential(\n",
       "  (0): Linear(in_features=784, out_features=256, bias=True)\n",
       "  (1): ReLU()\n",
       "  (2): Linear(in_features=256, out_features=128, bias=True)\n",
       "  (3): ReLU()\n",
       "  (4): Linear(in_features=128, out_features=64, bias=True)\n",
       "  (5): ReLU()\n",
       "  (6): Linear(in_features=64, out_features=10, bias=True)\n",
       "  (7): LogSoftmax(dim=1)\n",
       ")"
      ]
     },
     "metadata": {},
     "execution_count": 4
    }
   ],
   "metadata": {}
  },
  {
   "cell_type": "markdown",
   "source": [
    "# Train the network\n",
    "\n",
    "Now you should create your network and train it. First you'll want to define [the criterion](http://pytorch.org/docs/master/nn.html#loss-functions) ( something like `nn.CrossEntropyLoss`) and [the optimizer](http://pytorch.org/docs/master/optim.html) (typically `optim.SGD` or `optim.Adam`).\n",
    "\n",
    "Then write the training code. Remember the training pass is a fairly straightforward process:\n",
    "\n",
    "* Make a forward pass through the network to get the logits \n",
    "* Use the logits to calculate the loss\n",
    "* Perform a backward pass through the network with `loss.backward()` to calculate the gradients\n",
    "* Take a step with the optimizer to update the weights\n",
    "\n",
    "By adjusting the hyperparameters (hidden units, learning rate, etc), you should be able to get the training loss below 0.4."
   ],
   "metadata": {}
  },
  {
   "cell_type": "code",
   "execution_count": 5,
   "source": [
    "# Create the network, define the criterion and optimizer\n",
    "\n",
    "from torch import optim\n",
    "\n",
    "criterion = nn.NLLLoss()\n",
    "optimizer = optim.SGD(model.parameters(), lr=0.001)\n"
   ],
   "outputs": [],
   "metadata": {}
  },
  {
   "cell_type": "code",
   "execution_count": 13,
   "source": [
    "# TODO: Train the network here\n",
    "epochs = 5\n",
    "for i in range(epochs):\n",
    "    ep_loss = 0\n",
    "    for images, labels in trainloader:\n",
    "        # reshape images\n",
    "        images = images.view(images.shape[0], -1)\n",
    "        optimizer.zero_grad()\n",
    "\n",
    "        preds = model(images)\n",
    "        loss = criterion(preds, labels)\n",
    "        loss.backward()\n",
    "        optimizer.step()\n",
    "        ep_loss += loss \n",
    "    \n",
    "    print(\"Loss: \" + str(ep_loss/len(trainloader)))\n"
   ],
   "outputs": [],
   "metadata": {}
  },
  {
   "cell_type": "code",
   "execution_count": 12,
   "source": [
    "%matplotlib inline\n",
    "%config InlineBackend.figure_format = 'retina'\n",
    "\n",
    "import helper\n",
    "\n",
    "# Test out your network!\n",
    "\n",
    "dataiter = iter(testloader)\n",
    "images, labels = dataiter.next()\n",
    "img = images[0]\n",
    "# Convert 2D image to 1D vector\n",
    "img = img.resize_(1, 784)\n",
    "\n",
    "# TODO: Calculate the class probabilities (softmax) for img\n",
    "ps = torch.exp(model(img))\n",
    "\n",
    "# Plot the image and probabilities\n",
    "helper.view_classify(img.resize_(1, 28, 28), ps, version='Fashion')"
   ],
   "outputs": [
    {
     "output_type": "display_data",
     "data": {
      "text/plain": [
       "<Figure size 432x648 with 2 Axes>"
      ],
      "image/png": "[encoded data removed]"
     },
     "metadata": {
      "image/png": {
       "width": 424,
       "height": 216
      },
      "needs_background": "light"
     }
    }
   ],
   "metadata": {}
  },
  {
   "cell_type": "code",
   "execution_count": null,
   "source": [],
   "outputs": [],
   "metadata": {}
  }
 ],
 "metadata": {
  "kernelspec": {
   "name": "python3",
   "display_name": "Python 3.8.11 64-bit ('testenv': conda)"
  },
  "language_info": {
   "codemirror_mode": {
    "name": "ipython",
    "version": 3
   },
   "file_extension": ".py",
   "mimetype": "text/x-python",
   "name": "python",
   "nbconvert_exporter": "python",
   "pygments_lexer": "ipython3",
   "version": "3.8.11"
  },
  "interpreter": {
   "hash": "7c55698fa1498f46fc09742bd124ac5b31f39b522fa1009aa47115d2421500a6"
  }
 },
 "nbformat": 4,
 "nbformat_minor": 2
}